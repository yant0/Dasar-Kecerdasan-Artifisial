{
 "cells": [
  {
   "cell_type": "code",
   "execution_count": 2,
   "metadata": {},
   "outputs": [],
   "source": [
    "import numpy as np"
   ]
  },
  {
   "cell_type": "code",
   "execution_count": 2,
   "metadata": {},
   "outputs": [
    {
     "name": "stdout",
     "output_type": "stream",
     "text": [
      "['Kucing' 'Rakun' 'Jerapah']\n"
     ]
    }
   ],
   "source": [
    "# Membuat Array 1D\n",
    "\n",
    "hewan = np.array(['Kucing','Rakun','Jerapah'])\n",
    "print(hewan)"
   ]
  },
  {
   "cell_type": "markdown",
   "metadata": {},
   "source": [
    "Kode menggunakan NumPy untuk membuat dan mencetak array 1D (satu dimensi). Pertama, array hewan dibuat dengan fungsi np.array(), yang berisi tiga elemen string: `Kucing`, `Rakun`, dan `Jerapah`. Kemudian, perintah print(hewan) digunakan untuk menampilkan isi array tersebut ke output."
   ]
  },
  {
   "cell_type": "code",
   "execution_count": 4,
   "metadata": {},
   "outputs": [
    {
     "name": "stdout",
     "output_type": "stream",
     "text": [
      "[['Kucing' 'Rakun' 'Jerapah']\n",
      " ['Serigala' 'Musang' 'Kodok']]\n"
     ]
    }
   ],
   "source": [
    "# Array 2D\n",
    "hewan = np.array([['Kucing','Rakun','Jerapah'], ['Serigala', 'Musang', 'Kodok']])\n",
    "print(hewan)"
   ]
  },
  {
   "cell_type": "markdown",
   "metadata": {},
   "source": [
    "Kode membuat array 2D menggunakan NumPy, di mana variabel hewan berisi dua baris dengan masing-masing tiga elemen string. Saat print(hewan) dijalankan, array ditampilkan dalam format matriks dengan baris pertama berisi `Kucing`, `Rakun`, `Jerapah`, dan baris kedua berisi `Serigala`, `Musang`, `Kodok`."
   ]
  },
  {
   "cell_type": "code",
   "execution_count": 5,
   "metadata": {},
   "outputs": [
    {
     "name": "stdout",
     "output_type": "stream",
     "text": [
      "[1 2 3 4 5 6]\n"
     ]
    }
   ],
   "source": [
    "# Menambahkan Elemen Array\n",
    "\n",
    "a = np.array([1,2,3])\n",
    "b = np.array([4,5,6])\n",
    "print(np.append(a,b))"
   ]
  },
  {
   "cell_type": "markdown",
   "metadata": {},
   "source": [
    "Kode menggunakan **NumPy** untuk menambahkan elemen dari array `b` ke array `a` dengan fungsi `np.append()`. Array `a` berisi `[1,2,3]` dan array `b` berisi `[4,5,6]`, lalu `np.append(a, b)` menggabungkan keduanya menjadi `[1,2,3,4,5,6]`, yang kemudian ditampilkan dengan `print()`."
   ]
  },
  {
   "cell_type": "code",
   "execution_count": 10,
   "metadata": {},
   "outputs": [
    {
     "name": "stdout",
     "output_type": "stream",
     "text": [
      "Array 2D\n",
      " [[1 2]\n",
      " [3 4]\n",
      " [5 6]]\n"
     ]
    }
   ],
   "source": [
    "x = np.array([[1,2], [3,4]])\n",
    "x = np.append(x, [[5,6]], axis=0)\n",
    "print(\"Array 2D\\n\", x)"
   ]
  },
  {
   "cell_type": "markdown",
   "metadata": {},
   "source": [
    "Kode menggunakan **NumPy** untuk menambahkan baris baru ke dalam **array 2D**. Awalnya, `x` adalah array **2×2** dengan elemen `[[1,2], [3,4]]`. Fungsi `np.append(x, [[5,6]], axis=0)` menambahkan baris `[5,6]` di bawahnya, sehingga `x` menjadi `[[1,2], [3,4], [5,6]]`, yang kemudian dicetak dengan `print()`."
   ]
  },
  {
   "cell_type": "code",
   "execution_count": 14,
   "metadata": {},
   "outputs": [
    {
     "name": "stdout",
     "output_type": "stream",
     "text": [
      "Array 2D\n",
      " [[3 4]]\n"
     ]
    }
   ],
   "source": [
    "# Menghapus Elemen\n",
    "\n",
    "x = np.array([[1,2], [3,4]])\n",
    "x = np.delete(x, 0, axis=0)\n",
    "print(\"Array 2D\\n\", x)"
   ]
  },
  {
   "cell_type": "markdown",
   "metadata": {},
   "source": [
    "Kode menggunakan **NumPy** untuk menghapus elemen dari **array 2D**. Awalnya, `x` adalah array `[[1,2], [3,4]]`. Fungsi `np.delete(x, 0, axis=0)` menghapus baris pertama (indeks 0), sehingga `x` menjadi `[[3,4]]`, yang kemudian dicetak dengan `print()`."
   ]
  },
  {
   "cell_type": "code",
   "execution_count": 15,
   "metadata": {},
   "outputs": [
    {
     "name": "stdout",
     "output_type": "stream",
     "text": [
      "Penjumlahan [5 7 9]\n",
      "Pengurangan [-3 -3 -3]\n",
      "Perkalian [ 4 10 18]\n",
      "Pembagian [0.25 0.4  0.5 ]\n"
     ]
    }
   ],
   "source": [
    "# Operasi Array\n",
    "\n",
    "arr_a = np.array([1,2,3])\n",
    "arr_b = np.array([4,5,6])\n",
    "print(\"Penjumlahan\", arr_a + arr_b)\n",
    "print(\"Pengurangan\", arr_a - arr_b)\n",
    "print(\"Perkalian\", arr_a * arr_b)\n",
    "print(\"Pembagian\", arr_a / arr_b)"
   ]
  },
  {
   "cell_type": "markdown",
   "metadata": {},
   "source": [
    "Kode menggunakan **NumPy** untuk melakukan operasi aritmatika pada dua **array 1D**. `arr_a` berisi `[1,2,3]` dan `arr_b` berisi `[4,5,6]`. Operasi dilakukan secara **elemen-per-elemen**, sehingga:  \n",
    "\n",
    "- **Penjumlahan** menghasilkan `[5,7,9]`  \n",
    "- **Pengurangan** menghasilkan `[-3,-3,-3]`  \n",
    "- **Perkalian** menghasilkan `[4,10,18]`  \n",
    "- **Pembagian** menghasilkan `[0.25, 0.4, 0.5]`  \n",
    "\n",
    "Hasilnya kemudian ditampilkan dengan `print()`."
   ]
  },
  {
   "cell_type": "code",
   "execution_count": 17,
   "metadata": {},
   "outputs": [
    {
     "name": "stdout",
     "output_type": "stream",
     "text": [
      "Ukuran array tidak sama\n"
     ]
    }
   ],
   "source": [
    "x = np.array([1,2,3,4,5,6])\n",
    "y = np.array([[5,6],[7,8]])\n",
    "\n",
    "if x.size == y.size:\n",
    "    print(\"Ukuran array sama\")\n",
    "else:\n",
    "    print(\"Ukuran array tidak sama\")"
   ]
  },
  {
   "cell_type": "markdown",
   "metadata": {},
   "source": [
    "Kode menggunakan **NumPy** untuk membandingkan ukuran dua array, yaitu `x` yang merupakan **array 1D** dengan enam elemen `[1,2,3,4,5,6]`, dan `y` yang merupakan **array 2D** berukuran **2×2** dengan elemen `[[5,6],[7,8]]`. Fungsi `x.size` dan `y.size` digunakan untuk menghitung jumlah elemen di masing-masing array. Karena `x` memiliki **6 elemen** dan `y` hanya memiliki **4 elemen**, kondisi `if` akan mencetak `\"Ukuran array tidak sama\"`."
   ]
  },
  {
   "cell_type": "code",
   "execution_count": 28,
   "metadata": {},
   "outputs": [
    {
     "name": "stdout",
     "output_type": "stream",
     "text": [
      "Program Menghitung Mean, Median, dan Standar deviasi\n",
      "\n",
      "Hasil Perhitungan:\n",
      "Data yang dimasukkan: [2.0, 1.0, 2.0]\n",
      "Mean\t\t: 1.6666666666666667\n",
      "Median\t\t: 2.0\n",
      "Standar Deviasi\t: 0.4714045207910317\n"
     ]
    }
   ],
   "source": [
    "def input_data():\n",
    "    n = int(input(\"Masukkan jumlah data: \"))\n",
    "    data = []\n",
    "    for i in range(n):\n",
    "        value = float(input(f\"Masukkan data ke-{i+1} :\"))\n",
    "        data.append(value)\n",
    "\n",
    "    return data\n",
    "\n",
    "print(\"Program Menghitung Mean, Median, dan Standar deviasi\")\n",
    "\n",
    "data = input_data()\n",
    "\n",
    "mean_value = np.mean(data)\n",
    "median_value = np.median(data)\n",
    "std_value = np.std(data)\n",
    "\n",
    "print(\"\\nHasil Perhitungan:\")\n",
    "print(f\"Data yang dimasukkan: {data}\")\n",
    "print(f\"Mean\\t\\t: {mean_value}\")\n",
    "print(f\"Median\\t\\t: {median_value}\")\n",
    "print(f\"Standar Deviasi\\t: {std_value}\")"
   ]
  },
  {
   "cell_type": "markdown",
   "metadata": {},
   "source": [
    "Kode adalah program Python menggunakan **NumPy** untuk menghitung **mean (rata-rata), median, dan standar deviasi** dari sekumpulan data yang dimasukkan pengguna. Fungsi `input_data()` meminta pengguna memasukkan sejumlah data yang kemudian disimpan dalam list `data`. Setelah data diperoleh, fungsi **NumPy** digunakan untuk menghitung **mean (`np.mean()`), median (`np.median()`), dan standar deviasi (`np.std()`)**. Hasil perhitungan kemudian ditampilkan dalam format yang rapi."
   ]
  },
  {
   "cell_type": "code",
   "execution_count": null,
   "metadata": {},
   "outputs": [],
   "source": [
    "def tambah_mahasiswa(data):\n",
    "    nama = input(\"Nama : \")\n",
    "    nim = input(\"NIM : \")\n",
    "\n",
    "    try:\n",
    "        nilai = float(input(\"Nilai : \"))\n",
    "        thn = int(input(\"Tahun Masuk : \"))\n",
    "    except ValueError:\n",
    "        print(\"Nilai dan Tahun Masuk harus berupa angka!\")\n",
    "        return data\n",
    "    return np.append(data, np.array([(nama, nim, nilai, thn)], dtype=data.dtype))\n",
    "\n",
    "def tampilkan_mahasiswa(data):\n",
    "    data_len = len(data)\n",
    "    if data_len == 0:\n",
    "        print(\"Kosong\")\n",
    "        return\n",
    "\n",
    "    for row in data:\n",
    "        print(f\"Nama\\t\\t: {row['Nama']}\")\n",
    "        print(f\"NIM\\t\\t: {row['NIM']}\")\n",
    "        print(f\"Nilai\\t\\t: {row['Nilai']}\")\n",
    "        print(f\"Tahun Masuk\\t: {row['Tahun Masuk']}\\n\")\n",
    "\n",
    "def statistik_nilai(data):\n",
    "    if len(data) == 0:\n",
    "        print(\"Kosong\")\n",
    "        return\n",
    "\n",
    "    print(\"\\nStatistik Nilai:\")\n",
    "    print(f\"Nilai Tertinggi : {np.max(data['Nilai'])}\")\n",
    "    print(f\"Nilai Terendah  : {np.min(data['Nilai'])}\")\n",
    "    print(f\"Nilai Rata-rata : {np.mean(data['Nilai']):.2f}\")\n",
    "\n",
    "def cari_mahasiswa(data):\n",
    "    search = input(\"NIM / Nama Mahawsiswa : \")\n",
    "    search_result = np.array([],dtype=data.dtype)\n",
    "\n",
    "    for row in data:\n",
    "        if search == row[\"Nama\"] or search == row[\"NIM\"]:\n",
    "            search_result = np.append(search_result, row)\n",
    "\n",
    "    tampilkan_mahasiswa(search_result)\n",
    "\n",
    "data = np.array([], dtype={'names'  :(\"Nama\", \"NIM\", \"Nilai\", \"Tahun Masuk\"),\n",
    "                           \"formats\":(\"U50\", \"U15\", \"f4\", \"i4\")})\n",
    "\n",
    "while True:\n",
    "    print(\"Menu:\")\n",
    "    print(\"1. Tambah Mahasiswa\")\n",
    "    print(\"2. Tampilkan Mahasiswa\")\n",
    "    print(\"3. Statistik Nilai\")\n",
    "    print(\"4. Cari Mahasiswa\")\n",
    "    print(\"5. Keluar\")\n",
    "\n",
    "    key = input(\"Pilih menu: \")\n",
    "\n",
    "    if key == '1':\n",
    "        data = tambah_mahasiswa(data)\n",
    "    elif key == '2':\n",
    "        tampilkan_mahasiswa(data)\n",
    "    elif key == '3':\n",
    "        statistik_nilai(data)\n",
    "    elif key == '4':\n",
    "        cari_mahasiswa(data)\n",
    "    elif key == '5':\n",
    "        break"
   ]
  },
  {
   "cell_type": "markdown",
   "metadata": {},
   "source": [
    "Program sederhana untuk mengelola data mahasiswa menggunakan **NumPy** sebagai struktur data utama. Program ini memungkinkan pengguna untuk menambahkan mahasiswa, menampilkan daftar mahasiswa, melihat statistik nilai, mencari mahasiswa berdasarkan **NIM atau nama**, serta keluar dari program melalui menu interaktif berbasis **input pengguna**.\n",
    "\n",
    "Fungsi `tambah_mahasiswa(data)` meminta pengguna memasukkan data mahasiswa, termasuk **Nama, NIM, Nilai, dan Tahun Masuk**, kemudian menambahkannya ke dalam array **NumPy** menggunakan `np.append()`. Fungsi `tampilkan_mahasiswa(data)` menampilkan semua data mahasiswa yang tersimpan dalam array, jika ada, dengan format yang terstruktur. Jika tidak ada data, akan muncul pesan \"Kosong\".\n",
    "\n",
    "Fungsi `statistik_nilai(data)` menghitung **nilai tertinggi, nilai terendah, dan nilai rata-rata** dari seluruh mahasiswa yang terdaftar, menggunakan fungsi `np.max()`, `np.min()`, dan `np.mean()`. Jika tidak ada data, akan muncul pesan \"Data Kosong\". Fungsi `cari_mahasiswa(data)` memungkinkan pencarian mahasiswa berdasarkan **Nama atau NIM**, dan hasil pencarian akan ditampilkan menggunakan `tampilkan_mahasiswa()`."
   ]
  },
  {
   "cell_type": "code",
   "execution_count": 35,
   "metadata": {},
   "outputs": [
    {
     "name": "stdout",
     "output_type": "stream",
     "text": [
      "Nama Barang\t\t: Laptop\n",
      "Kode Barang\t\t: LPT123\n",
      "Jumlah\t\t: 5\n",
      "Harga Per Unit\t: 7500000.0\n",
      "\n",
      "Nama Barang\t\t: Printer\n",
      "Kode Barang\t\t: PRT456\n",
      "Jumlah\t\t: 2\n",
      "Harga Per Unit\t: 1500000.0\n",
      "\n",
      "Nama Barang\t\t: Mouse\n",
      "Kode Barang\t\t: MS789\n",
      "Jumlah\t\t: 10\n",
      "Harga Per Unit\t: 250000.0\n",
      "\n",
      "Nama Barang\t\t: Monitor\n",
      "Kode Barang\t\t: MN345\n",
      "Jumlah\t\t: 3\n",
      "Harga Per Unit\t: 2000000.0\n",
      "\n",
      "Menu:\n",
      "1. Tambah Barang\n",
      "2. Tampilkan Barang\n",
      "3. Total Nilai Inventaris\n",
      "4. Cari Barang\n",
      "5. Keluar\n",
      "Menu:\n",
      "1. Tambah Barang\n",
      "2. Tampilkan Barang\n",
      "3. Total Nilai Inventaris\n",
      "4. Cari Barang\n",
      "5. Keluar\n",
      "\n",
      "Total Nilai Inventaris: 49000000.0\n",
      "Menu:\n",
      "1. Tambah Barang\n",
      "2. Tampilkan Barang\n",
      "3. Total Nilai Inventaris\n",
      "4. Cari Barang\n",
      "5. Keluar\n",
      "Nama Barang\t\t: Mouse\n",
      "Kode Barang\t\t: MS789\n",
      "Jumlah\t\t: 10\n",
      "Harga Per Unit\t: 250000.0\n",
      "\n",
      "Menu:\n",
      "1. Tambah Barang\n",
      "2. Tampilkan Barang\n",
      "3. Total Nilai Inventaris\n",
      "4. Cari Barang\n",
      "5. Keluar\n",
      "Menu:\n",
      "1. Tambah Barang\n",
      "2. Tampilkan Barang\n",
      "3. Total Nilai Inventaris\n",
      "4. Cari Barang\n",
      "5. Keluar\n"
     ]
    }
   ],
   "source": [
    "def tambah_barang(data):\n",
    "    nama = input(\"Nama Barang : \")\n",
    "    kode = input(\"Kode Barang : \")\n",
    "\n",
    "    try:\n",
    "        jumlah = int(input(\"Jumlah : \"))\n",
    "        harga = float(input(\"Harga Per Unit : \"))\n",
    "    except ValueError:\n",
    "        print(\"Jumlah dan Harga harus berupa angka!\")\n",
    "        return data\n",
    "\n",
    "    return np.append(data, np.array([(nama, kode, jumlah, harga)], dtype=data.dtype))\n",
    "\n",
    "def tampilkan_barang(data):\n",
    "    data_len = len(data)\n",
    "    if data_len == 0:\n",
    "        print(\"Kosong\")\n",
    "        return\n",
    "\n",
    "    for row in data:\n",
    "        print(f\"Nama Barang\\t: {row['NamaBarang']}\")\n",
    "        print(f\"Kode Barang\\t: {row['KodeBarang']}\")\n",
    "        print(f\"Jumlah\\t\\t: {row['Jumlah']}\")\n",
    "        print(f\"Harga Per Unit\\t: {row['HargaPerUnit']}\\n\")\n",
    "\n",
    "def inventaris(data):\n",
    "    if len(data) == 0:\n",
    "        print(\"Data Kosong\")\n",
    "        return\n",
    "\n",
    "    total = sum(row[\"HargaPerUnit\"] * row[\"Jumlah\"] for row in data)\n",
    "    print(f\"\\nTotal Nilai Inventaris: {total}\")\n",
    "\n",
    "def cari_barang(data):\n",
    "    search = input(\"Nama / Kode Barang : \")\n",
    "    search_result = np.array([],dtype=data.dtype)\n",
    "\n",
    "    for row in data:\n",
    "        if search == row[\"NamaBarang\"] or search == row[\"KodeBarang\"]:\n",
    "            search_result = np.append(search_result, row)\n",
    "\n",
    "    tampilkan_barang(search_result)\n",
    "\n",
    "data = np.array([], dtype={'names'  :(\"NamaBarang\", \"KodeBarang\", \"Jumlah\", \"HargaPerUnit\"),\n",
    "                           \"formats\":(\"U50\", \"U15\", \"i8\", \"f8\")})\n",
    "\n",
    "while True:\n",
    "    print(\"Menu:\")\n",
    "    print(\"1. Tambah Barang\")\n",
    "    print(\"2. Tampilkan Barang\")\n",
    "    print(\"3. Total Nilai Inventaris\")\n",
    "    print(\"4. Cari Barang\")\n",
    "    print(\"5. Keluar\")\n",
    "\n",
    "    key = input(\"Pilih menu: \")\n",
    "\n",
    "    if key == '1':\n",
    "        data = tambah_barang(data)\n",
    "    elif key == '2':\n",
    "        tampilkan_barang(data)\n",
    "    elif key == '3':\n",
    "        inventaris(data)\n",
    "    elif key == '4':\n",
    "        cari_barang(data)\n",
    "    elif key == '5':\n",
    "        break"
   ]
  },
  {
   "cell_type": "markdown",
   "metadata": {},
   "source": [
    "Program manajemen inventaris barang menggunakan **NumPy** sebagai struktur data utama. Program ini memungkinkan pengguna untuk **menambahkan barang, menampilkan daftar barang, menghitung total nilai inventaris, mencari barang berdasarkan nama atau kode, serta keluar dari program** melalui menu interaktif.\n",
    "\n",
    "Fungsi `tambah_barang(data)` meminta input dari pengguna untuk **Nama Barang, Kode Barang, Jumlah, dan Harga Per Unit**. Untuk mencegah kesalahan input, terdapat **penanganan kesalahan (try-except)** yang memastikan **Jumlah dan Harga harus berupa angka**. Jika input tidak valid, program akan menampilkan pesan kesalahan dan tidak menambahkan data.\n",
    "\n",
    "Fungsi `tampilkan_barang(data)` menampilkan semua barang yang tersimpan dalam array **NumPy structured array** dengan format yang rapi. Jika tidak ada barang dalam inventaris, program akan mencetak **\"Kosong\"**.\n",
    "\n",
    "Fungsi `inventaris(data)` menghitung **total nilai inventaris**, yaitu hasil perkalian antara **Jumlah barang dan Harga per unit** untuk setiap barang, kemudian menjumlahkannya. Jika tidak ada data, program akan menampilkan pesan **\"Data Kosong\"**.\n",
    "\n",
    "Fungsi `cari_barang(data)` memungkinkan pencarian barang berdasarkan **Nama atau Kode Barang**. Jika barang ditemukan, data barang tersebut akan ditampilkan menggunakan `tampilkan_barang()`.\n",
    "\n",
    "Program utama menggunakan perulangan **while True** untuk menampilkan menu interaktif yang memungkinkan pengguna memilih salah satu dari lima opsi yang tersedia. Jika pengguna memilih **1-4**, program akan menjalankan fungsi yang sesuai. Jika pengguna memilih **5**, program akan keluar menggunakan `break`. Program ini menggunakan **NumPy structured array**, yang memungkinkan penyimpanan berbagai tipe data dalam satu array dan mempermudah pengolahan data inventaris."
   ]
  }
 ],
 "metadata": {
  "kernelspec": {
   "display_name": "Python 3",
   "language": "python",
   "name": "python3"
  },
  "language_info": {
   "codemirror_mode": {
    "name": "ipython",
    "version": 3
   },
   "file_extension": ".py",
   "mimetype": "text/x-python",
   "name": "python",
   "nbconvert_exporter": "python",
   "pygments_lexer": "ipython3",
   "version": "3.12.9"
  }
 },
 "nbformat": 4,
 "nbformat_minor": 2
}
