{
 "cells": [
  {
   "cell_type": "code",
   "execution_count": 1,
   "metadata": {},
   "outputs": [
    {
     "name": "stdout",
     "output_type": "stream",
     "text": [
      "x kurang dari 9\n"
     ]
    }
   ],
   "source": [
    "#IF ELSE\n",
    "x = 8\n",
    "if x < 5:\n",
    "    print(\"x kurang dari 5\")\n",
    "elif x < 7:\n",
    "    print(\"x kurang dari 7\")\n",
    "elif x < 9:\n",
    "    print(\"x kurang dari 9\")\n",
    "else:\n",
    "    print(\"x lebih besar atau sama dengan 9\")"
   ]
  },
  {
   "cell_type": "markdown",
   "metadata": {},
   "source": [
    "Kode di atas menggunakan struktur percabangan if-elif-else untuk mengevaluasi nilai variabel x. Pertama, program memeriksa apakah x kurang dari 5. Jika kondisi ini benar, maka akan mencetak \"x kurang dari 5\", tetapi jika salah, program melanjutkan ke kondisi berikutnya. Selanjutnya, jika x kurang dari 7, program mencetak \"x kurang dari 7\". Jika kondisi ini juga salah, program mengevaluasi apakah x kurang dari 9, dan jika benar, akan mencetak \"x kurang dari 9\". Jika semua kondisi sebelumnya tidak terpenuhi, maka blok else akan dijalankan, mencetak \"x lebih besar atau sama dengan 9\". Dalam contoh ini, karena x = 8, kondisi pertama dan kedua salah, tetapi kondisi elif x < 9 benar, sehingga output yang dihasilkan adalah \"x kurang dari 9\"."
   ]
  },
  {
   "cell_type": "code",
   "execution_count": 2,
   "metadata": {},
   "outputs": [
    {
     "name": "stdout",
     "output_type": "stream",
     "text": [
      "Buah: apple\n",
      "Buah: banana\n",
      "Buah: cherry\n",
      "Buah: grape\n",
      "Buah: orange\n"
     ]
    }
   ],
   "source": [
    "fruits = [\"apple\", \"banana\", \"cherry\", \"grape\", \"orange\"]\n",
    "\n",
    "for fruit in fruits:\n",
    "  print(\"Buah:\", fruit)"
   ]
  },
  {
   "cell_type": "markdown",
   "metadata": {},
   "source": [
    "Kode di atas menggunakan perulangan for untuk mengiterasi elemen dalam list fruits, yang berisi lima jenis buah: \"apple\", \"banana\", \"cherry\", \"grape\", dan \"orange\". Dalam setiap iterasi, variabel fruit akan menyimpan satu elemen dari list tersebut. Print menggunakan fruit sebagai variabel yang dicetak yaitu print(\"Buah:\", fruit)."
   ]
  },
  {
   "cell_type": "code",
   "execution_count": 3,
   "metadata": {},
   "outputs": [
    {
     "name": "stdout",
     "output_type": "stream",
     "text": [
      "3 adalah bilangan ganjil.\n"
     ]
    }
   ],
   "source": [
    "# fungsi untuk mengecek apakah bilangan ganjil atau genap\n",
    "def cek_ganjil_genap(angka):\n",
    "    if angka % 2 == 0:\n",
    "        return f\"{angka} adalah bilangan genap.\"\n",
    "    else:\n",
    "        return f\"{angka} adalah bilangan ganjil.\"\n",
    "\n",
    "#input dari pengguna\n",
    "angka = int(input(\"Masukkan sebuah angka: \"))\n",
    "print(cek_ganjil_genap(angka))"
   ]
  },
  {
   "cell_type": "markdown",
   "metadata": {},
   "source": [
    "Kode di atas adalah sebuah fungsi Python yang digunakan untuk mengecek apakah suatu bilangan termasuk bilangan ganjil atau genap. Fungsi cek_ganjil_genap(angka) menerima satu parameter angka dan menggunakan operasi modulus (%) untuk menentukan apakah angka tersebut habis dibagi 2. Jika angka % 2 == 0, maka angka tersebut adalah bilangan genap, dan fungsi akan mengembalikan string yang menyatakan bahwa angka tersebut genap. Jika tidak, maka angka tersebut adalah bilangan ganjil."
   ]
  },
  {
   "cell_type": "code",
   "execution_count": 7,
   "metadata": {},
   "outputs": [
    {
     "name": "stdout",
     "output_type": "stream",
     "text": [
      "0 1 1 2 3 5 8 13 21 34 "
     ]
    }
   ],
   "source": [
    "def fibonacci(n):\n",
    "    if n <= 0:\n",
    "        return 0\n",
    "    elif n == 1:\n",
    "        return 1\n",
    "    else:\n",
    "        return fibonacci(n-1) + fibonacci(n-2)\n",
    "\n",
    "for i in range(int(input())):\n",
    "    print(fibonacci(i), end=\" \")"
   ]
  },
  {
   "cell_type": "markdown",
   "metadata": {},
   "source": [
    "Kode di atas adalah implementasi rekursif dari deret Fibonacci dalam Python. Fungsi fibonacci(n) digunakan untuk menghitung nilai ke-n dalam deret Fibonacci, di mana fibonacci(0) mengembalikan 0, fibonacci(1) mengembalikan 1, dan untuk nilai n yang lebih besar, hasilnya adalah jumlah dari dua nilai sebelumnya dalam deret, yaitu fibonacci(n-1) + fibonacci(n-2).\n",
    "\n",
    "Setelah fungsi didefinisikan, program meminta pengguna untuk memasukkan sebuah angka sebagai batas perulangan dengan int(input()). Kemudian, menggunakan perulangan for, program mencetak nilai Fibonacci dari 0 hingga satu angka sebelum input pengguna. Setiap hasil dipisahkan dengan spasi menggunakan parameter end=\" \"."
   ]
  },
  {
   "cell_type": "code",
   "execution_count": 8,
   "metadata": {},
   "outputs": [
    {
     "name": "stdout",
     "output_type": "stream",
     "text": [
      "True\n"
     ]
    }
   ],
   "source": [
    "def kabisat(tahun):\n",
    "    return (tahun % 4 == 0 and tahun % 100 != 0) or (tahun % 400 == 0)\n",
    "\n",
    "print(kabisat(int(input())))"
   ]
  },
  {
   "cell_type": "markdown",
   "metadata": {},
   "source": [
    "Kode di atas adalah fungsi Python untuk mengecek apakah suatu tahun merupakan tahun kabisat atau tidak. Fungsi kabisat(tahun) menggunakan operator logika untuk menentukan apakah sebuah tahun memenuhi syarat sebagai tahun kabisat. Sebuah tahun dianggap kabisat jika habis dibagi 4 tetapi tidak habis dibagi 100, kecuali jika juga habis dibagi 400. Fungsi ini mengembalikan True jika tahun tersebut kabisat dan False jika tidak.\n",
    "\n",
    "Setelah fungsi didefinisikan, program meminta pengguna untuk memasukkan sebuah tahun menggunakan input(), kemudian mengonversinya menjadi bilangan bulat dengan int(). Hasil dari fungsi kabisat() kemudian dicetak ke layar menggunakan print(), menampilkan True jika tahun tersebut kabisat dan False jika bukan."
   ]
  }
 ],
 "metadata": {
  "kernelspec": {
   "display_name": "Python 3",
   "language": "python",
   "name": "python3"
  },
  "language_info": {
   "codemirror_mode": {
    "name": "ipython",
    "version": 3
   },
   "file_extension": ".py",
   "mimetype": "text/x-python",
   "name": "python",
   "nbconvert_exporter": "python",
   "pygments_lexer": "ipython3",
   "version": "3.12.9"
  }
 },
 "nbformat": 4,
 "nbformat_minor": 2
}
