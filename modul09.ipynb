{
 "cells": [
  {
   "cell_type": "code",
   "execution_count": 1,
   "id": "3407d5d2",
   "metadata": {},
   "outputs": [],
   "source": [
    "import random\n",
    "import math"
   ]
  },
  {
   "cell_type": "code",
   "execution_count": 47,
   "id": "67cd9fb9",
   "metadata": {},
   "outputs": [
    {
     "name": "stdout",
     "output_type": "stream",
     "text": [
      "Solusi terbaik (urutan kota):  [1, 2, 0, 7, 3, 6, 5, 4]\n",
      "Total jarak terbaik:  24.122094492753845\n"
     ]
    }
   ],
   "source": [
    "def distance(city1, city2):\n",
    "    return math.sqrt((city1[0] - city2[0]) ** 2 + (city1[1] - city2[1]) ** 2)\n",
    "\n",
    "def total_distance(tour, cities):\n",
    "    dist = 0\n",
    "    for i in range(len(tour)):\n",
    "        dist += distance(cities[tour[i]], cities[tour[(i+1) % len(tour)]])\n",
    "    return dist\n",
    "\n",
    "def random_swap(tour):\n",
    "    new_tour = tour[:]\n",
    "    i,j = random.sample(range(len(tour)),2)\n",
    "    new_tour[i], new_tour[j] = new_tour[j], new_tour[i]\n",
    "    return new_tour\n",
    "\n",
    "def simulated_annealing(cities, initial_temp, cooling_rate, stopping_temp):\n",
    "    current_solution = list(range(len(cities)))\n",
    "    random.shuffle(current_solution)\n",
    "    current_distance = total_distance(current_solution, cities)\n",
    "\n",
    "    best_solution = current_solution[:]\n",
    "    best_distance = current_distance\n",
    "\n",
    "    temp = initial_temp\n",
    "\n",
    "    while temp > stopping_temp:\n",
    "        new_solution = random_swap(current_solution)\n",
    "        new_distance = total_distance(new_solution,cities)\n",
    "\n",
    "        if new_distance < current_distance:\n",
    "            current_solution = new_solution[:]\n",
    "            current_distance = new_distance\n",
    "        else:\n",
    "            if random.random() < math.exp((current_distance - new_distance)/temp):\n",
    "                current_solution = new_solution[:]\n",
    "                current_distance = new_distance\n",
    "\n",
    "        if current_distance < best_distance:\n",
    "            best_distance = new_solution[:]\n",
    "            best_distance = new_distance\n",
    "\n",
    "        temp *= cooling_rate\n",
    "\n",
    "    return best_solution, best_distance\n",
    "\n",
    "\n",
    "cities = [\n",
    "    (0,0), (1,3), (4,3), (6,1), (3,0), (2,2), (5,5), (7,7)\n",
    "]\n",
    "\n",
    "initial_temp = 10000\n",
    "cooling_rate = 0.995\n",
    "stopping_temp = 1\n",
    "\n",
    "best_solution, best_distance = simulated_annealing(cities, initial_temp, cooling_rate, stopping_temp)\n",
    "\n",
    "print(\"Solusi terbaik (urutan kota): \", best_solution)\n",
    "print(\"Total jarak terbaik: \", best_distance)"
   ]
  },
  {
   "cell_type": "markdown",
   "id": "d084bb81",
   "metadata": {},
   "source": [
    "Kode ini menyelesaikan masalah Traveling Salesman Problem (TSP) menggunakan algoritma Simulated Annealing. Fungsi distance menghitung jarak antar dua kota, sedangkan total_distance menjumlahkan seluruh jarak dalam satu rute perjalanan yang kembali ke titik awal. Untuk mengeksplorasi solusi baru, digunakan random_swap, yang menukar dua kota secara acak dalam urutan kunjungan.\n",
    "\n",
    "Proses dimulai dengan rute acak, lalu iteratif diperbaiki. Jika solusi baru lebih baik (jaraknya lebih pendek), maka diterima. Jika lebih buruk, solusi tetap bisa diterima dengan probabilitas tertentu bergantung pada suhu (temperature) saat ini. Suhu ini perlahan menurun hingga mencapai batas minimum, mengakhiri pencarian. Hasil akhirnya adalah urutan kota dengan jarak tempuh total terpendek yang ditemukan selama proses."
   ]
  },
  {
   "cell_type": "code",
   "execution_count": null,
   "id": "d7a8491f",
   "metadata": {},
   "outputs": [
    {
     "name": "stdout",
     "output_type": "stream",
     "text": [
      "Salesman 1 route: [5, 3, 6, 2]\n",
      "Salesman 2 route: [7, 1, 4, 0]\n",
      "Total distance: 87.23486407604611\n"
     ]
    }
   ],
   "source": [
    "cities = [\n",
    "    (10, 20), (35, 15), (5, 40), (25, 30),\n",
    "    (15, 25), (40, 35), (20, 40), (50, 10)\n",
    "]\n",
    "\n",
    "def euclidean(p1, p2):\n",
    "    return math.sqrt((p1[0]-p2[0])**2 + (p1[1]-p2[1])**2)\n",
    "\n",
    "def total_distance(route):\n",
    "    return sum(euclidean(cities[route[i]], cities[route[i+1]]) for i in range(len(route)-1))\n",
    "\n",
    "def total_cost(sol):\n",
    "    return total_distance(sol[0]) + total_distance(sol[1])\n",
    "\n",
    "def random_solution():\n",
    "    city_indices = list(range(len(cities)))\n",
    "    random.shuffle(city_indices)\n",
    "    mid = len(city_indices) // 2\n",
    "    return [city_indices[:mid], city_indices[mid:]]\n",
    "\n",
    "def perturb(sol):\n",
    "    new_sol = [list(sol[0]), list(sol[1])]\n",
    "    if random.random() < 0.5:\n",
    "        if new_sol[0] and new_sol[1]:\n",
    "            i, j = random.randrange(len(new_sol[0])), random.randrange(len(new_sol[1]))\n",
    "            new_sol[0][i], new_sol[1][j] = new_sol[1][j], new_sol[0][i]\n",
    "    else:\n",
    "        route = random.choice(new_sol)\n",
    "        if len(route) > 1:\n",
    "            i, j = random.sample(range(len(route)), 2)\n",
    "            route[i], route[j] = route[j], route[i]\n",
    "    return new_sol\n",
    "\n",
    "def simulated_annealing(T=1000, alpha=0.995, T_min=1e-3):\n",
    "    current = random_solution()\n",
    "    best = current\n",
    "    while T > T_min:\n",
    "        for _ in range(100):\n",
    "            neighbor = perturb(current)\n",
    "            delta = total_cost(neighbor) - total_cost(current)\n",
    "            if delta < 0 or random.random() < math.exp(-delta / T):\n",
    "                current = neighbor\n",
    "                if total_cost(current) < total_cost(best):\n",
    "                    best = current\n",
    "        T *= alpha\n",
    "    return best\n",
    "\n",
    "best_routes = simulated_annealing()\n",
    "\n",
    "print(\"Salesman 1 route:\", best_routes[0])\n",
    "print(\"Salesman 2 route:\", best_routes[1])\n",
    "print(\"Total distance:\", total_cost(best_routes))\n"
   ]
  },
  {
   "cell_type": "markdown",
   "id": "3e979bc4",
   "metadata": {},
   "source": [
    "Kode ini digunakan untuk menyelesaikan Multiple Traveling Salesman Problem (mTSP) dengan dua orang salesman yang harus mengunjungi delapan kota tanpa ada kota yang dikunjungi lebih dari sekali. Koordinat masing-masing kota telah ditentukan dalam array cities. Fungsi euclidean menghitung jarak antara dua kota berdasarkan jarak Euclidean. Fungsi total_distance menjumlahkan jarak antar kota dalam satu rute, sedangkan total_cost menjumlahkan total jarak dari kedua rute salesman.\n",
    "\n",
    "Proses dimulai dengan random_solution, yang membagi secara acak delapan kota menjadi dua kelompok rute untuk masing-masing salesman. Kemudian, algoritma melakukan proses optimasi menggunakan metode Simulated Annealing melalui fungsi simulated_annealing. Selama proses ini, solusi saat ini akan dimodifikasi sedikit demi sedikit dengan fungsi perturb, yang bertugas mengacak rute, baik dengan menukar dua kota dalam satu rute maupun antara dua rute.\n",
    "\n",
    "Solusi baru akan diterima jika lebih baik dari sebelumnya. Jika tidak, solusi tetap bisa diterima dengan probabilitas yang bergantung pada parameter suhu (temperature), yang menurun secara bertahap hingga mencapai nilai minimum. Hasil akhirnya adalah rute optimal bagi dua salesman yang meminimalkan total jarak tempuh secara keseluruhan."
   ]
  }
 ],
 "metadata": {
  "kernelspec": {
   "display_name": "Python 3",
   "language": "python",
   "name": "python3"
  },
  "language_info": {
   "codemirror_mode": {
    "name": "ipython",
    "version": 3
   },
   "file_extension": ".py",
   "mimetype": "text/x-python",
   "name": "python",
   "nbconvert_exporter": "python",
   "pygments_lexer": "ipython3",
   "version": "3.12.9"
  }
 },
 "nbformat": 4,
 "nbformat_minor": 5
}
